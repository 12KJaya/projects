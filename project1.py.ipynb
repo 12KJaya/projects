{
 "cells": [
  {
   "cell_type": "code",
   "execution_count": 11,
   "metadata": {},
   "outputs": [
    {
     "name": "stdout",
     "output_type": "stream",
     "text": [
      "enter folder path:C:\\Users\\Jaya\\Desktop\\music\n"
     ]
    }
   ],
   "source": [
    "import os,shutil\n",
    "\n",
    "dic_extension={\n",
    "    'audio_extension':('.mp3','.m4a','.wav','.flac'),\n",
    "    'videoVideos_extension':('mp4','.mkv','MKV','.flv','.npeg'),\n",
    "    'documents_extension':('.doc','.pdf','.txt'),\n",
    "}\n",
    "\n",
    "folder_path=input(\"enter folder path:\")\n",
    "\n",
    "def file_finder(folder_path,file_extension):\n",
    "#     files=[]\n",
    "#     for file in os.listdir(folder_path):\n",
    "#         for extension in file_extension:\n",
    "#             if file.endswith(extension):\n",
    "#                 files.append(file)\n",
    "#     return files\n",
    "    return [file for file in os.listdir(folder_path) for extension in file_extension if file.endswith(extension)]    \n",
    "\n",
    "# print(file_finder(folder_path,video_extension))\n",
    "for extension_type,extension_tuple in dic_extension.items():\n",
    "    folder_name=extension_type.split('_')[0]+'files'\n",
    "    folder_path=os.path.join(folder_path,folder_name)\n",
    "    os.mkdir(folder_path)\n",
    "    for item in (file_finder(folder_path,extension_tuple)):\n",
    "        item_path=os.path.join(folder_path,item)\n",
    "        item_new_path=os.path.join(folder_path,item)\n",
    "        shutil.move(item_path,item_new_path)\n",
    "#     print('calling file finder')\n",
    "#     print(file_finder(folder_path,extension_tuple))\n",
    "            "
   ]
  },
  {
   "cell_type": "code",
   "execution_count": null,
   "metadata": {},
   "outputs": [],
   "source": []
  }
 ],
 "metadata": {
  "kernelspec": {
   "display_name": "Python 3",
   "language": "python",
   "name": "python3"
  },
  "language_info": {
   "codemirror_mode": {
    "name": "ipython",
    "version": 3
   },
   "file_extension": ".py",
   "mimetype": "text/x-python",
   "name": "python",
   "nbconvert_exporter": "python",
   "pygments_lexer": "ipython3",
   "version": "3.7.1"
  }
 },
 "nbformat": 4,
 "nbformat_minor": 2
}
